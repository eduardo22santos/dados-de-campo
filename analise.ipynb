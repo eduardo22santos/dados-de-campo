{
 "cells": [
  {
   "cell_type": "code",
   "execution_count": 3,
   "metadata": {},
   "outputs": [],
   "source": [
    "import pandas as pd"
   ]
  },
  {
   "cell_type": "code",
   "execution_count": null,
   "metadata": {},
   "outputs": [],
   "source": [
    "# Fatores de correção\n",
    "# v <= 1,38 -> 2.5296\n",
    "# v > 1,38 -> 2.2953"
   ]
  },
  {
   "cell_type": "code",
   "execution_count": 4,
   "metadata": {},
   "outputs": [],
   "source": [
    "interno_sd = pd.read_csv('datalog_in.csv')\n",
    "externo_sd = pd.read_csv('datalog_ex.csv')\n",
    "interno_on = pd.read_csv('online_in.csv')\n",
    "externo_on = pd.read_csv('online_ex.csv')"
   ]
  },
  {
   "cell_type": "code",
   "execution_count": 6,
   "metadata": {},
   "outputs": [
    {
     "data": {
      "text/plain": [
       "Index(['data', 'hora', 'psi', 'htu', 'tgn', 'tbs', 'tbu', 'itu1', 'itu2',\n",
       "       'itgu1', 'itgu2', 'ibutg1', 'ibutg2', 'or1', 'or2', 'hpa', 'v_m/s',\n",
       "       'CTR_W.m-2', 'TRM_K', 'H_Kcal/Kg ar seco', 'alerta'],\n",
       "      dtype='object')"
      ]
     },
     "execution_count": 6,
     "metadata": {},
     "output_type": "execute_result"
    }
   ],
   "source": [
    "interno_sd.columns"
   ]
  },
  {
   "cell_type": "code",
   "execution_count": 7,
   "metadata": {},
   "outputs": [
    {
     "data": {
      "text/plain": [
       "Index(['created_at', 'entry_id', 'field1', 'field2', 'field3', 'field4',\n",
       "       'field5', 'field6', 'field7', 'field8', 'latitude', 'longitude',\n",
       "       'elevation', 'status'],\n",
       "      dtype='object')"
      ]
     },
     "execution_count": 7,
     "metadata": {},
     "output_type": "execute_result"
    }
   ],
   "source": [
    "interno_on.columns"
   ]
  },
  {
   "cell_type": "code",
   "execution_count": 8,
   "metadata": {},
   "outputs": [
    {
     "data": {
      "text/plain": [
       "Index(['data', 'hora', 'psi', 'htu', 'tgn', 'tbs', 'tbu', 'itu1', 'itu2',\n",
       "       'itgu1', 'itgu2', 'ibutg1', 'ibutg2', 'or1', 'or2', 'hpa', 'v_m/s',\n",
       "       'CTR_W.m-2', 'TRM_K', 'H_Kcal/Kg ar seco', 'alerta'],\n",
       "      dtype='object')"
      ]
     },
     "execution_count": 8,
     "metadata": {},
     "output_type": "execute_result"
    }
   ],
   "source": [
    "externo_sd.columns"
   ]
  },
  {
   "cell_type": "code",
   "execution_count": 9,
   "metadata": {},
   "outputs": [
    {
     "data": {
      "text/plain": [
       "Index(['created_at', 'entry_id', 'field1', 'field2', 'field3', 'field4',\n",
       "       'field5', 'field6', 'field7', 'field8', 'latitude', 'longitude',\n",
       "       'elevation', 'status'],\n",
       "      dtype='object')"
      ]
     },
     "execution_count": 9,
     "metadata": {},
     "output_type": "execute_result"
    }
   ],
   "source": [
    "externo_on.columns"
   ]
  },
  {
   "cell_type": "code",
   "execution_count": null,
   "metadata": {},
   "outputs": [],
   "source": []
  }
 ],
 "metadata": {
  "kernelspec": {
   "display_name": "base",
   "language": "python",
   "name": "python3"
  },
  "language_info": {
   "codemirror_mode": {
    "name": "ipython",
    "version": 3
   },
   "file_extension": ".py",
   "mimetype": "text/x-python",
   "name": "python",
   "nbconvert_exporter": "python",
   "pygments_lexer": "ipython3",
   "version": "3.11.4"
  }
 },
 "nbformat": 4,
 "nbformat_minor": 2
}
